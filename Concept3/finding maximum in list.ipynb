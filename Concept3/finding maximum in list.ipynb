{
 "cells": [
  {
   "cell_type": "markdown",
   "metadata": {},
   "source": [
    "9.Given a list of numbers, find out the maximum number."
   ]
  },
  {
   "cell_type": "code",
   "execution_count": 11,
   "metadata": {},
   "outputs": [
    {
     "name": "stdout",
     "output_type": "stream",
     "text": [
      "12\n"
     ]
    }
   ],
   "source": [
    "#1st Method\n",
    "list1=[12,6,7,9]\n",
    "maxim=list1[0]      #assuming that the number on 0 index is the largest.\n",
    "for i in list1:     #Iterating each numbers of list1 one by one.\n",
    "    if i>maxim:     #if the number is greater than maxim then updating the maximum.\n",
    "        maximum=i\n",
    "    else:           #if the number is not greater than maxim then maxim will be same as of 0 index number.\n",
    "        maximum=maxim\n",
    "print(maximum)"
   ]
  },
  {
   "cell_type": "code",
   "execution_count": 12,
   "metadata": {},
   "outputs": [],
   "source": [
    "#2nd Method\n",
    "def funcmax(list1):     #defining a function.\n",
    "    maxim=list1[0]      #assuming that the number on 0 index is the largest.\n",
    "    for i in list1:     #Iterating each numbers of list1 one by one.\n",
    "        if i>maxim:     #if the number is greater than maxim then updating the maximum.\n",
    "            maximum=i\n",
    "        else:           #if the number is not greater than maxim then maxim will be same as of 0 index number.\n",
    "            maximum=maxim\n",
    "    return maximum"
   ]
  },
  {
   "cell_type": "code",
   "execution_count": 13,
   "metadata": {},
   "outputs": [
    {
     "data": {
      "text/plain": [
       "12"
      ]
     },
     "execution_count": 13,
     "metadata": {},
     "output_type": "execute_result"
    }
   ],
   "source": [
    "list1=[3,8,9,12]\n",
    "funcmax(list1)"
   ]
  }
 ],
 "metadata": {
  "kernelspec": {
   "display_name": "Python 3",
   "language": "python",
   "name": "python3"
  },
  "language_info": {
   "codemirror_mode": {
    "name": "ipython",
    "version": 3
   },
   "file_extension": ".py",
   "mimetype": "text/x-python",
   "name": "python",
   "nbconvert_exporter": "python",
   "pygments_lexer": "ipython3",
   "version": "3.11.4"
  }
 },
 "nbformat": 4,
 "nbformat_minor": 2
}
