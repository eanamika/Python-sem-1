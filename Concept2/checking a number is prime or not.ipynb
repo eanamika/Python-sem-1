{
 "cells": [
  {
   "cell_type": "markdown",
   "metadata": {},
   "source": [
    "4.Given a positive integer, find out if it’s prime or not."
   ]
  },
  {
   "cell_type": "code",
   "execution_count": 7,
   "metadata": {},
   "outputs": [
    {
     "name": "stdout",
     "output_type": "stream",
     "text": [
      "num1 is: 101\n",
      "num1 is prime number\n"
     ]
    }
   ],
   "source": [
    "import math\n",
    "num1=int(input(\"enter a number\"))\n",
    "print(\"num1 is:\",num1)\n",
    "a=int(math.sqrt(num1))+1\n",
    "x=0\n",
    "if num1>1:\n",
    "    #checking num1 is divisible by how many numbers in the range of(2,a).\n",
    "    for i in range(2,a):                \n",
    "        if num1%i==0:\n",
    "              x=x+1\n",
    "    #if num1 is not divisible by any numbers of the range(2,a).\n",
    "    if x==0:\n",
    "        print(\"num1 is prime number\")\n",
    "    #if num1 is divisible by any numbers of the range(2,a).\n",
    "    else:\n",
    "        print(\"num1 is not prime number\")\n",
    "#if num1 is less than 1 or equal to 1.\n",
    "else:\n",
    "    print(\"num1 is not a prime number\")\n"
   ]
  },
  {
   "cell_type": "code",
   "execution_count": null,
   "metadata": {},
   "outputs": [],
   "source": []
  }
 ],
 "metadata": {
  "kernelspec": {
   "display_name": "Python 3",
   "language": "python",
   "name": "python3"
  },
  "language_info": {
   "codemirror_mode": {
    "name": "ipython",
    "version": 3
   },
   "file_extension": ".py",
   "mimetype": "text/x-python",
   "name": "python",
   "nbconvert_exporter": "python",
   "pygments_lexer": "ipython3",
   "version": "3.11.4"
  }
 },
 "nbformat": 4,
 "nbformat_minor": 2
}
