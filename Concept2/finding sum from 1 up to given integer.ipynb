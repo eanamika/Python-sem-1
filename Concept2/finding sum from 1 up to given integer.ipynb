{
 "cells": [
  {
   "cell_type": "markdown",
   "metadata": {},
   "source": [
    "2.Given a positive integer, find out the sum of all integers from 1 up to this number."
   ]
  },
  {
   "cell_type": "code",
   "execution_count": 8,
   "metadata": {},
   "outputs": [
    {
     "name": "stdout",
     "output_type": "stream",
     "text": [
      "the number is: 5\n",
      "the sum is: 15\n"
     ]
    }
   ],
   "source": [
    "num=int(input(\"enter an integer\"))\n",
    "print(\"the number is:\",num)   \n",
    "sum1=0                        #initialize a variable to store the sum.    \n",
    "for i in range (1,num+1):     #for loop iterating numbers from 1 to given number.\n",
    "    sum1=sum1+i               #Adding each numbers to the sum.\n",
    "print(\"the sum is:\",sum1)"
   ]
  },
  {
   "cell_type": "code",
   "execution_count": null,
   "metadata": {},
   "outputs": [],
   "source": []
  }
 ],
 "metadata": {
  "kernelspec": {
   "display_name": "Python 3",
   "language": "python",
   "name": "python3"
  },
  "language_info": {
   "codemirror_mode": {
    "name": "ipython",
    "version": 3
   },
   "file_extension": ".py",
   "mimetype": "text/x-python",
   "name": "python",
   "nbconvert_exporter": "python",
   "pygments_lexer": "ipython3",
   "version": "3.11.4"
  }
 },
 "nbformat": 4,
 "nbformat_minor": 2
}
