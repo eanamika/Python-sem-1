{
 "cells": [
  {
   "cell_type": "markdown",
   "metadata": {},
   "source": [
    "3.Given a positive integer, find out its factorial."
   ]
  },
  {
   "cell_type": "code",
   "execution_count": 4,
   "metadata": {},
   "outputs": [
    {
     "name": "stdout",
     "output_type": "stream",
     "text": [
      "the num is: 9\n",
      "factorial of num is: 362880\n"
     ]
    }
   ],
   "source": [
    "num=int(input(\"enter an positive integer\"))\n",
    "print(\"the num is:\",num)\n",
    "fact=1                              #initializing a variable to store factorial.\n",
    "if num>0:                           #factorial can be calculated for positive numbers onlyso checking the input is positive or not.\n",
    "    for i in range(1,num+1):        #for loop iterating numbers from 1 to given number.\n",
    "        fact=fact*i                 #calculating factorial of given number.\n",
    "    print(\"factorial of num is:\",fact)\n",
    "elif num==0:                        #Case where input is 0.\n",
    "    print(\"factorial of 0 is 1\")\n",
    "else:\n",
    "    print(\"invalid input\")"
   ]
  },
  {
   "cell_type": "code",
   "execution_count": null,
   "metadata": {},
   "outputs": [],
   "source": []
  }
 ],
 "metadata": {
  "kernelspec": {
   "display_name": "Python 3",
   "language": "python",
   "name": "python3"
  },
  "language_info": {
   "codemirror_mode": {
    "name": "ipython",
    "version": 3
   },
   "file_extension": ".py",
   "mimetype": "text/x-python",
   "name": "python",
   "nbconvert_exporter": "python",
   "pygments_lexer": "ipython3",
   "version": "3.11.4"
  }
 },
 "nbformat": 4,
 "nbformat_minor": 2
}
