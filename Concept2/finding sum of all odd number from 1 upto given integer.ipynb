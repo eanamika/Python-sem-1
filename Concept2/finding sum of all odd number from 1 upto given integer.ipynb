{
 "cells": [
  {
   "cell_type": "markdown",
   "metadata": {},
   "source": [
    "5.Given a positive integer, find out the sum of all odd numbers from 1 up to this number.\n"
   ]
  },
  {
   "cell_type": "code",
   "execution_count": 3,
   "metadata": {},
   "outputs": [
    {
     "name": "stdout",
     "output_type": "stream",
     "text": [
      "9\n"
     ]
    }
   ],
   "source": [
    "num=int(input(\"enter an positive integer\"))\n",
    "print(\"number is:\",num)                    \n",
    "sum1=0                             #intializing a variable to store sum.\n",
    "for i in range(1,num+1,2):         #for loop iterating odd numbers from 1 to given number.\n",
    "    sum1=sum1+i                     #calculating sum.\n",
    "print(\"sum is:\",sum1)"
   ]
  }
 ],
 "metadata": {
  "kernelspec": {
   "display_name": "Python 3",
   "language": "python",
   "name": "python3"
  },
  "language_info": {
   "codemirror_mode": {
    "name": "ipython",
    "version": 3
   },
   "file_extension": ".py",
   "mimetype": "text/x-python",
   "name": "python",
   "nbconvert_exporter": "python",
   "pygments_lexer": "ipython3",
   "version": "3.11.4"
  }
 },
 "nbformat": 4,
 "nbformat_minor": 2
}
