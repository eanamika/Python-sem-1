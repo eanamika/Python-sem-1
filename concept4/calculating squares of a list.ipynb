{
 "cells": [
  {
   "cell_type": "markdown",
   "metadata": {},
   "source": [
    "1.Given a list of positive integers, find the factorial of all the numbers."
   ]
  },
  {
   "cell_type": "code",
   "execution_count": 1,
   "metadata": {},
   "outputs": [
    {
     "name": "stdout",
     "output_type": "stream",
     "text": [
      "[4, 16, 36, 25]\n"
     ]
    }
   ],
   "source": [
    "#Method-1\n",
    "list1=[2,4,6,5]\n",
    "list2=[]                #creating an empty list to store squares of list1. \n",
    "fact=1                  #Initializing a variable.\n",
    "for i in list1:         #for loop iterating each element one by one.\n",
    "    fact=i*i            #calculating factorial.\n",
    "    list2.append(fact)  #appending squares in list2.\n",
    "print(list2)"
   ]
  },
  {
   "cell_type": "code",
   "execution_count": 2,
   "metadata": {},
   "outputs": [],
   "source": [
    "#Method-2\n",
    "def funcfact(list1):\n",
    "    list2=[]                #creating an empty list to store squares of list1.\n",
    "    fact=1                  #Initializing a variable.\n",
    "    for i in list1:         #for loop iterating each element one by one.\n",
    "        fact=i*i            #calculating factorial.\n",
    "        list2.append(fact)  #appending squares in list2.\n",
    "    return list2"
   ]
  },
  {
   "cell_type": "code",
   "execution_count": 4,
   "metadata": {},
   "outputs": [
    {
     "data": {
      "text/plain": [
       "[25, 81, 4, 144]"
      ]
     },
     "execution_count": 4,
     "metadata": {},
     "output_type": "execute_result"
    }
   ],
   "source": [
    "list1=[5,9,2,12]\n",
    "funcfact(list1)"
   ]
  },
  {
   "cell_type": "code",
   "execution_count": null,
   "metadata": {},
   "outputs": [],
   "source": []
  }
 ],
 "metadata": {
  "kernelspec": {
   "display_name": "Python 3",
   "language": "python",
   "name": "python3"
  },
  "language_info": {
   "codemirror_mode": {
    "name": "ipython",
    "version": 3
   },
   "file_extension": ".py",
   "mimetype": "text/x-python",
   "name": "python",
   "nbconvert_exporter": "python",
   "pygments_lexer": "ipython3",
   "version": "3.11.4"
  }
 },
 "nbformat": 4,
 "nbformat_minor": 2
}
