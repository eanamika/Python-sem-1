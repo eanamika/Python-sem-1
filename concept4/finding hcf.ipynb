{
 "cells": [
  {
   "cell_type": "markdown",
   "metadata": {},
   "source": [
    "3.Given two numbers, find its Greatest Common Divisor (Divisor)."
   ]
  },
  {
   "cell_type": "code",
   "execution_count": 8,
   "metadata": {},
   "outputs": [
    {
     "name": "stdout",
     "output_type": "stream",
     "text": [
      "num1 is: 4\n",
      "num2 is: 160\n",
      "hcf is: 4\n"
     ]
    }
   ],
   "source": [
    "num1=int(input(\"enter a number\"))\n",
    "print(\"num1 is:\",num1)\n",
    "num2=int(input(\"enter a number\"))\n",
    "print(\"num2 is:\",num2)\n",
    "#if num2 is not greatest then swapping the value of num1 and num2.\n",
    "if num1>num2:            \n",
    "    num1,num2=num2,num1\n",
    "\n",
    "for i in range(1,num2):\n",
    "#checking which number is common factor for both num1 and num2. \n",
    "    if num1%i==num2%i==0:\n",
    "        hcf=i\n",
    "print(\"hcf is:\",hcf)\n"
   ]
  },
  {
   "cell_type": "code",
   "execution_count": null,
   "metadata": {},
   "outputs": [],
   "source": []
  }
 ],
 "metadata": {
  "kernelspec": {
   "display_name": "Python 3",
   "language": "python",
   "name": "python3"
  },
  "language_info": {
   "codemirror_mode": {
    "name": "ipython",
    "version": 3
   },
   "file_extension": ".py",
   "mimetype": "text/x-python",
   "name": "python",
   "nbconvert_exporter": "python",
   "pygments_lexer": "ipython3",
   "version": "3.11.4"
  }
 },
 "nbformat": 4,
 "nbformat_minor": 2
}
