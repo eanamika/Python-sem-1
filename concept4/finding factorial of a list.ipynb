{
 "cells": [
  {
   "cell_type": "markdown",
   "metadata": {},
   "source": [
    "1.Given a list of positive integers, find the factorial of all the numbers."
   ]
  },
  {
   "cell_type": "code",
   "execution_count": 11,
   "metadata": {},
   "outputs": [
    {
     "name": "stdout",
     "output_type": "stream",
     "text": [
      "[24, 6, 120, 720, 2]\n"
     ]
    }
   ],
   "source": [
    "list1=[4,3,5,6,2]\n",
    "list2=[]\n",
    "for num1 in list1:\n",
    "    fact=1\n",
    "    for i in range(2,num1+1):   \n",
    "        fact=fact               #calculating factorial.\n",
    "    list2.append(fact)          #appending factorials in list2.\n",
    "print(list2)\n"
   ]
  }
 ],
 "metadata": {
  "kernelspec": {
   "display_name": "Python 3",
   "language": "python",
   "name": "python3"
  },
  "language_info": {
   "codemirror_mode": {
    "name": "ipython",
    "version": 3
   },
   "file_extension": ".py",
   "mimetype": "text/x-python",
   "name": "python",
   "nbconvert_exporter": "python",
   "pygments_lexer": "ipython3",
   "version": "3.11.4"
  }
 },
 "nbformat": 4,
 "nbformat_minor": 2
}
