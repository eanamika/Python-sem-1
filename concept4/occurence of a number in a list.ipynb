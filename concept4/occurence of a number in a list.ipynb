{
 "cells": [
  {
   "cell_type": "markdown",
   "metadata": {},
   "source": [
    "6.Given a list of numbers, find out how many times each number occurs in the list."
   ]
  },
  {
   "cell_type": "code",
   "execution_count": 19,
   "metadata": {},
   "outputs": [],
   "source": [
    "def count(list1):\n",
    "    num_times={}                            # Initializing an empty dictionary to store number of occurence.\n",
    "    for i in list1:                         # Iterating through the list of numbers.\n",
    "        if i in num_times:                  # Check if the number is already in the dictionary.\n",
    "            num_times[i]=num_times[i]+1     # If yes then incrementing the count.\n",
    "        else:                               # If not then adding the number to the dictionary with a count of 1.\n",
    "            num_times[i]=1\n",
    "    return num_times    \n",
    "\n"
   ]
  },
  {
   "cell_type": "code",
   "execution_count": 20,
   "metadata": {},
   "outputs": [
    {
     "data": {
      "text/plain": [
       "{4: 3, 6: 2, 7: 1, 8: 2, 9: 3, 5: 1}"
      ]
     },
     "execution_count": 20,
     "metadata": {},
     "output_type": "execute_result"
    }
   ],
   "source": [
    "list1=[4,6,7,6,8,9,8,9,4,4,5,9]\n",
    "count(list1)\n"
   ]
  },
  {
   "cell_type": "code",
   "execution_count": null,
   "metadata": {},
   "outputs": [],
   "source": []
  }
 ],
 "metadata": {
  "kernelspec": {
   "display_name": "Python 3",
   "language": "python",
   "name": "python3"
  },
  "language_info": {
   "codemirror_mode": {
    "name": "ipython",
    "version": 3
   },
   "file_extension": ".py",
   "mimetype": "text/x-python",
   "name": "python",
   "nbconvert_exporter": "python",
   "pygments_lexer": "ipython3",
   "version": "3.11.4"
  }
 },
 "nbformat": 4,
 "nbformat_minor": 2
}
