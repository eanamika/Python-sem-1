{
 "cells": [
  {
   "cell_type": "markdown",
   "metadata": {},
   "source": [
    "4.Check if a value exists in a dictionary:\n",
    "sample_dict = {‘a’: 100, ‘b’: 200, ‘c’: 300}\n",
    "value_needed = 200"
   ]
  },
  {
   "cell_type": "code",
   "execution_count": 7,
   "metadata": {},
   "outputs": [
    {
     "name": "stdout",
     "output_type": "stream",
     "text": [
      "value founded\n"
     ]
    }
   ],
   "source": [
    "sample_dict={'a':100,'b':200,'c':300}\n",
    "value_needed=200\n",
    "values=sample_dict.values()     #creating a list of values.\n",
    "if 200 in values:               #checking if 200 is in values.\n",
    "    print(\"value founded\")\n",
    "else:                           #if 200 is not in values.\n",
    "    print(\"value not found\")"
   ]
  },
  {
   "cell_type": "code",
   "execution_count": null,
   "metadata": {},
   "outputs": [],
   "source": []
  }
 ],
 "metadata": {
  "kernelspec": {
   "display_name": "Python 3",
   "language": "python",
   "name": "python3"
  },
  "language_info": {
   "codemirror_mode": {
    "name": "ipython",
    "version": 3
   },
   "file_extension": ".py",
   "mimetype": "text/x-python",
   "name": "python",
   "nbconvert_exporter": "python",
   "pygments_lexer": "ipython3",
   "version": "3.11.4"
  }
 },
 "nbformat": 4,
 "nbformat_minor": 2
}
