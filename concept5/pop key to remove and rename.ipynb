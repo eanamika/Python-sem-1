{
 "cells": [
  {
   "cell_type": "markdown",
   "metadata": {},
   "source": [
    "6.Remove a key from a dictionary:\n",
    "dict_name.pop(key_name)\n",
    "What does this function return?\n",
    "Use pop to rename a key."
   ]
  },
  {
   "cell_type": "code",
   "execution_count": 4,
   "metadata": {},
   "outputs": [
    {
     "name": "stdout",
     "output_type": "stream",
     "text": [
      "{'a': 10, 'b': 20, 'd': 40, 'e': 50}\n"
     ]
    }
   ],
   "source": [
    "dict1={'a':10,'b':20,'c':30,'d':40,'e':50}\n",
    "dict1.pop('c')    #returning the value of mentioned key.       \n",
    "print(dict1)      #printing dict1 after removing c."
   ]
  },
  {
   "cell_type": "markdown",
   "metadata": {},
   "source": [
    "dict_name.pop(key_name)return the value of that key which we wanted to remove."
   ]
  },
  {
   "cell_type": "code",
   "execution_count": 6,
   "metadata": {},
   "outputs": [
    {
     "name": "stdout",
     "output_type": "stream",
     "text": [
      "{'a': 10, 'b': 20, 'c': 30, 'd': 40, 'f': 50}\n"
     ]
    }
   ],
   "source": [
    "dict1={'a':10,'b':20,'c':30,'d':40,'e':50}\n",
    "dict1['f']=dict1.pop('e')       #renaming e to f.\n",
    "print(dict1)"
   ]
  }
 ],
 "metadata": {
  "kernelspec": {
   "display_name": "Python 3",
   "language": "python",
   "name": "python3"
  },
  "language_info": {
   "codemirror_mode": {
    "name": "ipython",
    "version": 3
   },
   "file_extension": ".py",
   "mimetype": "text/x-python",
   "name": "python",
   "nbconvert_exporter": "python",
   "pygments_lexer": "ipython3",
   "version": "3.11.4"
  }
 },
 "nbformat": 4,
 "nbformat_minor": 2
}
