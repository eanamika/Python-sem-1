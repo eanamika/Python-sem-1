{
 "cells": [
  {
   "cell_type": "markdown",
   "metadata": {},
   "source": [
    "7.Create a dictionary to store the total marks of 5 students in the class in 3 subjects (Course1, Course2, Course3). The keys must be the student names, and the values must be the list of marks. Create another list which has the course names in the same order as the marks are stored in the dictionary values. Now write a nested for loop to print the marks for each student exam wise.\n",
    "Student1\n",
    "Course1 marks : 82\n",
    "Course2 marks : 84\n",
    "Course3 marks : 72\n",
    "Student2\n",
    "Course1 marks : 87\n",
    "Course2 marks : 83\n",
    "Course3 marks : 78"
   ]
  },
  {
   "cell_type": "code",
   "execution_count": 3,
   "metadata": {},
   "outputs": [
    {
     "name": "stdout",
     "output_type": "stream",
     "text": [
      "Ram\n",
      "The marks obtained are:\n",
      "89\n",
      "65\n",
      "90\n",
      "\n",
      "\n",
      "Shyam\n",
      "The marks obtained are:\n",
      "88\n",
      "92\n",
      "79\n",
      "\n",
      "\n",
      "Radha\n",
      "The marks obtained are:\n",
      "30\n",
      "47\n",
      "69\n",
      "\n",
      "\n",
      "Krishna\n",
      "The marks obtained are:\n",
      "85\n",
      "76\n",
      "66\n",
      "\n",
      "\n",
      "Sudama\n",
      "The marks obtained are:\n",
      "98\n",
      "43\n",
      "95\n",
      "\n",
      "\n"
     ]
    }
   ],
   "source": [
    "dict_stu={\"Ram\":[89,65,90],\"Shyam\":[88,92,79],\"Radha\":[30,47,69],\"Krishna\":[85,76,66],\"Sudama\":[98,43,95]}\n",
    "for key,value in dict_stu.items():\n",
    "    print(key)\n",
    "    print(\"The marks obtained are:\")\n",
    "    for j in value:\n",
    "        print(j)\n",
    "    print(\"\\n\")"
   ]
  }
 ],
 "metadata": {
  "kernelspec": {
   "display_name": "Python 3",
   "language": "python",
   "name": "python3"
  },
  "language_info": {
   "codemirror_mode": {
    "name": "ipython",
    "version": 3
   },
   "file_extension": ".py",
   "mimetype": "text/x-python",
   "name": "python",
   "nbconvert_exporter": "python",
   "pygments_lexer": "ipython3",
   "version": "3.11.4"
  }
 },
 "nbformat": 4,
 "nbformat_minor": 2
}
