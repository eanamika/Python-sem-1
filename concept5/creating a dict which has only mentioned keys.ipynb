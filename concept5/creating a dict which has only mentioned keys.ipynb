{
 "cells": [
  {
   "cell_type": "markdown",
   "metadata": {},
   "source": [
    "5.Create a new dictionary so that it only has the keys mentioned in another list\n",
    "sample_dict = { “name”: “Kelly”, “age”: 25, “salary”: 8000, “city”: “New york”}\n",
    "# Keys to extract\n",
    "keys = [“name”, “salary”]"
   ]
  },
  {
   "cell_type": "code",
   "execution_count": 2,
   "metadata": {},
   "outputs": [
    {
     "name": "stdout",
     "output_type": "stream",
     "text": [
      "{'name': 'Kelly', 'salary': 8000}\n"
     ]
    }
   ],
   "source": [
    "sample_dict={\"name\":\"Kelly\",\"age\":25,\"salary\":8000,\"city\":\"Ney york\"}\n",
    "keys=[\"name\",\"salary\"]\n",
    "new_dict={}\n",
    "for i in keys:\n",
    "    #if key of keys are present in key of sample_dict.\n",
    "    if i in sample_dict.keys():\n",
    "        new_dict[i]=sample_dict[i]\n",
    "\n",
    "    #if key of keys are not present in key of sample_dict.\n",
    "    else:\n",
    "        new_dict[i]=None\n",
    "print(new_dict)\n",
    "\n",
    "\n",
    "\n"
   ]
  }
 ],
 "metadata": {
  "kernelspec": {
   "display_name": "Python 3",
   "language": "python",
   "name": "python3"
  },
  "language_info": {
   "codemirror_mode": {
    "name": "ipython",
    "version": 3
   },
   "file_extension": ".py",
   "mimetype": "text/x-python",
   "name": "python",
   "nbconvert_exporter": "python",
   "pygments_lexer": "ipython3",
   "version": "3.11.4"
  }
 },
 "nbformat": 4,
 "nbformat_minor": 2
}
