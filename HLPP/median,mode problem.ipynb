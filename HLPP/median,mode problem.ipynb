{
 "cells": [
  {
   "cell_type": "markdown",
   "metadata": {},
   "source": [
    "2.Given a list of numbers, find out the median and mode."
   ]
  },
  {
   "cell_type": "code",
   "execution_count": 19,
   "metadata": {},
   "outputs": [],
   "source": [
    "def func_median(num1):\n",
    "    sorted_num1 = sorted(num1)              #Sort the list in ascending order.\n",
    "    n = len(sorted_num1)                    #Calculating the length of the list.\n",
    "    if n % 2 == 0:                          #Checking if the length is even or odd.\n",
    "        # If even, average the middle two elements.\n",
    "        mid1 = sorted_num1[n // 2 - 1]\n",
    "        mid2 = sorted_num1[n // 2]\n",
    "        median = (mid1 + mid2) / 2\n",
    "    else:                                   #If odd, select the middle element\n",
    "        median = sorted_num1[n // 2]\n",
    "    return median\n",
    "\n",
    "def func_mode(num1):\n",
    "    dict1 = {}                              #Create a dictionary to store the frequency of each number\n",
    "    # Calculate the frequency of each number\n",
    "    for num in num1:\n",
    "        if num in dict1:\n",
    "            dict1[num] += 1\n",
    "        else:\n",
    "            dict1[num] = 1\n",
    "    # Finding the mode with the highest frequency\n",
    "    max_frequency = max(dict1.values())\n",
    "    mode = [key for key, value in dict1.items() if value == max_frequency]\n",
    "    return mode\n"
   ]
  },
  {
   "cell_type": "code",
   "execution_count": 20,
   "metadata": {},
   "outputs": [
    {
     "data": {
      "text/plain": [
       "9.0"
      ]
     },
     "execution_count": 20,
     "metadata": {},
     "output_type": "execute_result"
    }
   ],
   "source": [
    "num1=[5,7,8,9,12,9,6,12,9,12]\n",
    "func_median(num1)\n"
   ]
  },
  {
   "cell_type": "code",
   "execution_count": 21,
   "metadata": {},
   "outputs": [
    {
     "data": {
      "text/plain": [
       "[9, 12]"
      ]
     },
     "execution_count": 21,
     "metadata": {},
     "output_type": "execute_result"
    }
   ],
   "source": [
    "func_mode(num1)"
   ]
  },
  {
   "cell_type": "code",
   "execution_count": null,
   "metadata": {},
   "outputs": [],
   "source": []
  }
 ],
 "metadata": {
  "kernelspec": {
   "display_name": "Python 3",
   "language": "python",
   "name": "python3"
  },
  "language_info": {
   "codemirror_mode": {
    "name": "ipython",
    "version": 3
   },
   "file_extension": ".py",
   "mimetype": "text/x-python",
   "name": "python",
   "nbconvert_exporter": "python",
   "pygments_lexer": "ipython3",
   "version": "3.11.4"
  }
 },
 "nbformat": 4,
 "nbformat_minor": 2
}
