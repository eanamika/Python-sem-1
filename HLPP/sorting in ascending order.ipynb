{
 "cells": [
  {
   "cell_type": "markdown",
   "metadata": {},
   "source": [
    "1.Given a list of numbers, sort it in ascending order."
   ]
  },
  {
   "cell_type": "code",
   "execution_count": 2,
   "metadata": {},
   "outputs": [],
   "source": [
    "def func_sort(lst):\n",
    "    for i in range(len(lst)):\t                #Outer loop iterates over each element in the list.\n",
    "        mini = i                                #Assuming the current index is the minimum.\n",
    "        for j in range(i, len(lst)):            #Inner loop compares the current element with the rest of the elements.\n",
    "            if lst[mini] > lst[j]:              #If a smaller element is found, updating the index of the minimum.\n",
    "                mini = j\n",
    "        lst[i], lst[mini] = lst[mini], lst[i]   #Swaping the current element with the minimum element found.\n",
    "    return lst                                  #Returning the sorted list.\n"
   ]
  },
  {
   "cell_type": "code",
   "execution_count": 4,
   "metadata": {},
   "outputs": [
    {
     "data": {
      "text/plain": [
       "[2, 3, 5, 8, 9]"
      ]
     },
     "execution_count": 4,
     "metadata": {},
     "output_type": "execute_result"
    }
   ],
   "source": [
    "lst=[8,9,3,2,5]\n",
    "func_sort(lst)"
   ]
  },
  {
   "cell_type": "code",
   "execution_count": null,
   "metadata": {},
   "outputs": [],
   "source": []
  }
 ],
 "metadata": {
  "kernelspec": {
   "display_name": "Python 3",
   "language": "python",
   "name": "python3"
  },
  "language_info": {
   "codemirror_mode": {
    "name": "ipython",
    "version": 3
   },
   "file_extension": ".py",
   "mimetype": "text/x-python",
   "name": "python",
   "nbconvert_exporter": "python",
   "pygments_lexer": "ipython3",
   "version": "3.11.4"
  }
 },
 "nbformat": 4,
 "nbformat_minor": 2
}
