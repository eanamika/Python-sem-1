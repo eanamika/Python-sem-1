{
 "cells": [
  {
   "cell_type": "markdown",
   "metadata": {},
   "source": [
    "9.Given a string input, find out if it contains a particular substring(allowing for one mismatch)."
   ]
  },
  {
   "cell_type": "code",
   "execution_count": 32,
   "metadata": {},
   "outputs": [],
   "source": [
    "#Method-1\n",
    "def str1(main_str, subs_str):\n",
    "    if subs_str in main_str:\n",
    "        return True\n",
    "    else:\n",
    "        return False\n",
    "\n",
    "\n"
   ]
  },
  {
   "cell_type": "code",
   "execution_count": 33,
   "metadata": {},
   "outputs": [
    {
     "data": {
      "text/plain": [
       "True"
      ]
     },
     "execution_count": 33,
     "metadata": {},
     "output_type": "execute_result"
    }
   ],
   "source": [
    "str1(\"i am Anamika\",\"Anamika\")"
   ]
  },
  {
   "cell_type": "code",
   "execution_count": 31,
   "metadata": {},
   "outputs": [],
   "source": [
    "#Method-2\n",
    "def str1(main_str,sub_str):\n",
    "    len_main=len(main_str)\n",
    "    len_sub=len(sub_str)\n",
    "    if len_sub>len_main:                        #length of Substring longer than the main string.\n",
    "        return False  \n",
    "    for i in range(len_main-len_sub+1):\n",
    "        mismatch_count=0\n",
    "        for j in range(len_sub):\n",
    "            if main_str[i+j]!=sub_str[j]:\n",
    "                mismatch_count+=1\n",
    "            if mismatch_count>1:\n",
    "                break                           #More than one mismatch, move to the next starting position.\n",
    "        if mismatch_count<=1:\n",
    "            return True                         #Found a substring with one mismatch.\n",
    "\n",
    "    return False                                #No substring with one mismatch found.\n",
    "\n"
   ]
  },
  {
   "cell_type": "code",
   "execution_count": 30,
   "metadata": {},
   "outputs": [
    {
     "data": {
      "text/plain": [
       "True"
      ]
     },
     "execution_count": 30,
     "metadata": {},
     "output_type": "execute_result"
    }
   ],
   "source": [
    "str1(\"i am Anamika\",\"Anamika\")"
   ]
  },
  {
   "cell_type": "code",
   "execution_count": null,
   "metadata": {},
   "outputs": [],
   "source": []
  }
 ],
 "metadata": {
  "kernelspec": {
   "display_name": "Python 3",
   "language": "python",
   "name": "python3"
  },
  "language_info": {
   "codemirror_mode": {
    "name": "ipython",
    "version": 3
   },
   "file_extension": ".py",
   "mimetype": "text/x-python",
   "name": "python",
   "nbconvert_exporter": "python",
   "pygments_lexer": "ipython3",
   "version": "3.11.4"
  }
 },
 "nbformat": 4,
 "nbformat_minor": 2
}
