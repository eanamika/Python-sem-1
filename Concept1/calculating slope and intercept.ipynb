{
 "cells": [
  {
   "cell_type": "markdown",
   "metadata": {},
   "source": [
    "7.Given two points (x1, y1) and (x2, y2), find the slope and intercept of the line joining these two points (the line may be perfectly horizontal or vertical)."
   ]
  },
  {
   "cell_type": "code",
   "execution_count": 12,
   "metadata": {},
   "outputs": [],
   "source": [
    "def slope_intercept(x1,y1,x2,y2):\n",
    "    if x1==x2:                  #checking if line is vertical x1=x2.\n",
    "        slope=float('inf')      #for vertical line slope is infinite.\n",
    "        intercept=None          #for vertical line intercept is not defined.     \n",
    "    else:\n",
    "        slope=(y2-y1)/(x2-x1)   #calculating slope using formula (y2-y1)/(x2-x1).\n",
    "        intercept=y1-slope*x1   #calculating intercept using formula (y=mx+c).\n",
    "    return slope,intercept\n"
   ]
  },
  {
   "cell_type": "code",
   "execution_count": 16,
   "metadata": {},
   "outputs": [
    {
     "data": {
      "text/plain": [
       "(0.0, 5.0)"
      ]
     },
     "execution_count": 16,
     "metadata": {},
     "output_type": "execute_result"
    }
   ],
   "source": [
    "slope_intercept(5,5,6,5)"
   ]
  },
  {
   "cell_type": "code",
   "execution_count": null,
   "metadata": {},
   "outputs": [],
   "source": []
  }
 ],
 "metadata": {
  "language_info": {
   "name": "python"
  }
 },
 "nbformat": 4,
 "nbformat_minor": 2
}
