{
 "cells": [
  {
   "cell_type": "markdown",
   "metadata": {},
   "source": [
    "6.Given a point (x1, y1), find the quadrant in which this point lies."
   ]
  },
  {
   "cell_type": "code",
   "execution_count": null,
   "metadata": {},
   "outputs": [],
   "source": [
    "x1=float(input(\"enter a number\")) # Input taken from the user.\n",
    "print(x1)\n",
    "y1=float(input(\"enter another number\")) # Input taken from the user.\n",
    "print(y1)\n",
    "# checking x1,y1 satisfying which condition\n",
    "if x1>0 and y1>0:\n",
    "    print(\"the point is in first quadrant\")\n",
    "elif x1<0 and y1>0:\n",
    "    print(\"the point is in second quadrant\")\n",
    "elif x1<0 and y1<0:\n",
    "    print(\"the point is in third quadrant\")\n",
    "else:\n",
    "    print(\"the point is in fourth quadrant\")"
   ]
  }
 ],
 "metadata": {
  "kernelspec": {
   "display_name": "Python 3",
   "language": "python",
   "name": "python3"
  },
  "language_info": {
   "name": "python",
   "version": "3.11.4"
  }
 },
 "nbformat": 4,
 "nbformat_minor": 2
}
