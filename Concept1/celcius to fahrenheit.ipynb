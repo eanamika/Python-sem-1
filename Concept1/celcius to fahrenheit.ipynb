{
 "cells": [
  {
   "cell_type": "markdown",
   "metadata": {},
   "source": [
    "3.Given a temperature in Celsius, convert it to Fahrenheit using the formula F = (C * 1.8) + 32. If the temperature is above 90°F, print “It’s hot outside!” otherwise, print “The temperature is pleasant”."
   ]
  },
  {
   "cell_type": "code",
   "execution_count": 1,
   "metadata": {},
   "outputs": [
    {
     "name": "stdout",
     "output_type": "stream",
     "text": [
      "67.0\n",
      "152.60000000000002\n",
      "It is hot outside\n"
     ]
    }
   ],
   "source": [
    "c=float(input(\"enter a number\")) #Input taken from the user\n",
    "print(c)\n",
    "f=(c*1.8)+32\n",
    "print(f)                     #formula to convert temperature from fahrenheit to celsius.\n",
    "#checking if temperature is greater than 90 degrees of fahrenheit or not.\n",
    "if f>90:\n",
    "    print(\"It is hot outside\")\n",
    "# checking all other conditions except above one condition.\n",
    "else:\n",
    "    print(\"The temperature is plesant\")"
   ]
  },
  {
   "cell_type": "code",
   "execution_count": null,
   "metadata": {},
   "outputs": [],
   "source": []
  }
 ],
 "metadata": {
  "kernelspec": {
   "display_name": "Python 3",
   "language": "python",
   "name": "python3"
  },
  "language_info": {
   "codemirror_mode": {
    "name": "ipython",
    "version": 3
   },
   "file_extension": ".py",
   "mimetype": "text/x-python",
   "name": "python",
   "nbconvert_exporter": "python",
   "pygments_lexer": "ipython3",
   "version": "3.11.4"
  }
 },
 "nbformat": 4,
 "nbformat_minor": 2
}
