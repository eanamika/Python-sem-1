{
 "cells": [
  {
   "cell_type": "markdown",
   "metadata": {},
   "source": [
    "2.Given two integers, find the larger one."
   ]
  },
  {
   "cell_type": "code",
   "execution_count": 1,
   "metadata": {},
   "outputs": [
    {
     "name": "stdout",
     "output_type": "stream",
     "text": [
      "6\n",
      "9\n",
      "num2 is greatest\n"
     ]
    }
   ],
   "source": [
    "num1=int(input(\"enter a number\"))       # Input taken from the user\n",
    "print(num1)\n",
    "num2=int(input(\"enter another number\")) # Input taken from the user\n",
    "print(num2)\n",
    "# checking if num1 is greater than num2 or not.\n",
    "if num1>num2:\n",
    "    print(\"num1 is greatest\")\n",
    "# checking if both numbers are equal or not.\n",
    "elif num1==num2:\n",
    "    print(\"both are equal\")\n",
    "# checking all other cases except above two conditions.\n",
    "else:\n",
    "    print(\"num2 is greatest\")"
   ]
  },
  {
   "cell_type": "code",
   "execution_count": null,
   "metadata": {},
   "outputs": [],
   "source": []
  }
 ],
 "metadata": {
  "kernelspec": {
   "display_name": "Python 3",
   "language": "python",
   "name": "python3"
  },
  "language_info": {
   "codemirror_mode": {
    "name": "ipython",
    "version": 3
   },
   "file_extension": ".py",
   "mimetype": "text/x-python",
   "name": "python",
   "nbconvert_exporter": "python",
   "pygments_lexer": "ipython3",
   "version": "3.11.4"
  }
 },
 "nbformat": 4,
 "nbformat_minor": 2
}
