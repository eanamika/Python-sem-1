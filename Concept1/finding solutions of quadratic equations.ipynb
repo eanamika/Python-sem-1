{
 "cells": [
  {
   "cell_type": "markdown",
   "metadata": {},
   "source": [
    "8.Given a quadratic equation with coefficients a, b and c, find the two solutions (may be real or complex). You should not take the square root of a negative number in your code."
   ]
  },
  {
   "cell_type": "code",
   "execution_count": 40,
   "metadata": {},
   "outputs": [
    {
     "name": "stdout",
     "output_type": "stream",
     "text": [
      "the quadratic equation is: 5 x^2 + 1 x + 6\n",
      "The solutions are imaginary and are: -0.1 + 5.95 j and -2.0 - 5.95 j\n"
     ]
    }
   ],
   "source": [
    "a=int(input(\"enter a number\"))\n",
    "b=int(input(\"enter a number\"))\n",
    "c=int(input(\"enter a number\"))\n",
    "print(\"the quadratic equation is:\",a,\"x^2 +\",b,\"x +\",c)\n",
    "disc=b**2-4*a*c                                         #finding discriminant by using formula(b^2-4ac)\n",
    "if disc>0:                                              #calculating 2 solns of quadratic equation if discriminant is positive.\n",
    "    soln1=((-1*b)+(disc)**1/2)/(2*a)\n",
    "    soln2=((-1*b)-(disc)**1/2)/(2*a)\n",
    "    print(soln1,soln2)\n",
    "elif disc==0:                                           #calculating solns when discriminant is 0\n",
    "    real=(-1*b)/(2*a)\n",
    "    print(\"the soln is real and equal:\",real)\n",
    "else:                                                   #calculating solns when discriminant is negative\n",
    "    real=(-1*b)/(2*a)                                                  \n",
    "    img=((-1*disc)**1/2)/(2*a)\n",
    "    print(\"The solutions are imaginary and are:\",real,\"+\",img,\"j\",\"and\",re,\"-\",img,\"j\")"
   ]
  },
  {
   "cell_type": "code",
   "execution_count": null,
   "metadata": {},
   "outputs": [],
   "source": []
  }
 ],
 "metadata": {
  "kernelspec": {
   "display_name": "Python 3",
   "language": "python",
   "name": "python3"
  },
  "language_info": {
   "codemirror_mode": {
    "name": "ipython",
    "version": 3
   },
   "file_extension": ".py",
   "mimetype": "text/x-python",
   "name": "python",
   "nbconvert_exporter": "python",
   "pygments_lexer": "ipython3",
   "version": "3.11.4"
  }
 },
 "nbformat": 4,
 "nbformat_minor": 2
}
