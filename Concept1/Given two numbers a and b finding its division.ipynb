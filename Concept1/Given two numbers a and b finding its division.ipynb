{
 "cells": [
  {
   "cell_type": "markdown",
   "metadata": {},
   "source": [
    "5.Given two numbers, a and b, find the value of a/b (b may be zero)."
   ]
  },
  {
   "cell_type": "code",
   "execution_count": 1,
   "metadata": {},
   "outputs": [
    {
     "name": "stdout",
     "output_type": "stream",
     "text": [
      "9.0\n",
      "5.0\n",
      "ratio is: 1.8\n"
     ]
    }
   ],
   "source": [
    "a=float(input(\"enter a number\")) #Input taken from the user.\n",
    "print(a)\n",
    "b=float(input(\"enter a number\")) #Input taken from the user.\n",
    "print(b)\n",
    "#checking if b is not zero then calculating the value of a/b.\n",
    "if b!=0:\n",
    "    print(\"ratio is:\",a/b)\n",
    "# If b is zero then it is not defined\n",
    "else:\n",
    "    print(\"not defined\")"
   ]
  },
  {
   "cell_type": "code",
   "execution_count": null,
   "metadata": {},
   "outputs": [],
   "source": []
  }
 ],
 "metadata": {
  "kernelspec": {
   "display_name": "Python 3",
   "language": "python",
   "name": "python3"
  },
  "language_info": {
   "codemirror_mode": {
    "name": "ipython",
    "version": 3
   },
   "file_extension": ".py",
   "mimetype": "text/x-python",
   "name": "python",
   "nbconvert_exporter": "python",
   "pygments_lexer": "ipython3",
   "version": "3.11.4"
  }
 },
 "nbformat": 4,
 "nbformat_minor": 2
}
