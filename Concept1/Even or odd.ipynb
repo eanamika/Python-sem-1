{
 "cells": [
  {
   "cell_type": "markdown",
   "metadata": {},
   "source": [
    "1.Given an integer, check if it is even or odd."
   ]
  },
  {
   "cell_type": "code",
   "execution_count": 1,
   "metadata": {},
   "outputs": [
    {
     "name": "stdout",
     "output_type": "stream",
     "text": [
      "6\n",
      "it is an even number\n"
     ]
    }
   ],
   "source": [
    "num1=int(input(\"enter a number\")) # Input taken from the user\n",
    "print(num1)\n",
    "# If number is divisible by 2 then it an even number\n",
    "if num1%2==0:                     \n",
    "    print(\"it is an even number\")\n",
    "\n",
    "# If number is not divisible by 2 then it is odd number\n",
    "else:                             \n",
    "    print(\"it is a odd number\")"
   ]
  }
 ],
 "metadata": {
  "kernelspec": {
   "display_name": "Python 3",
   "language": "python",
   "name": "python3"
  },
  "language_info": {
   "codemirror_mode": {
    "name": "ipython",
    "version": 3
   },
   "file_extension": ".py",
   "mimetype": "text/x-python",
   "name": "python",
   "nbconvert_exporter": "python",
   "pygments_lexer": "ipython3",
   "version": "3.11.4"
  }
 },
 "nbformat": 4,
 "nbformat_minor": 2
}
